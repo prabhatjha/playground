{
 "cells": [
  {
   "cell_type": "code",
   "execution_count": 36,
   "metadata": {},
   "outputs": [
    {
     "name": "stdout",
     "output_type": "stream",
     "text": [
      "[13350000, 18550000, 8400000, 1837442]\n"
     ]
    }
   ],
   "source": [
    "import numpy as np\n",
    "import pandas as pd\n",
    "\n",
    "city_population = {\n",
    "  'Tokyo': 13350000, \n",
    "  'Los Angeles': 18550000,\n",
    "  'New York City': 8400000,\n",
    "  'San Francisco': 1837442\n",
    "}\n",
    "\n",
    "populations = city_population.values()\n",
    "pops = list(populations)\n",
    "print(pops)"
   ]
  },
  {
   "cell_type": "code",
   "execution_count": 37,
   "metadata": {},
   "outputs": [
    {
     "data": {
      "text/plain": [
       "10534360.5"
      ]
     },
     "execution_count": 37,
     "metadata": {},
     "output_type": "execute_result"
    }
   ],
   "source": [
    "np.mean(pops)"
   ]
  },
  {
   "cell_type": "code",
   "execution_count": 59,
   "metadata": {},
   "outputs": [],
   "source": [
    "#Read a CSV\n",
    "survey_df = pd.read_csv(\"/Users/prabhat/Downloads/hakerrank.csv\", na_values = [''])"
   ]
  },
  {
   "cell_type": "code",
   "execution_count": 63,
   "metadata": {},
   "outputs": [
    {
     "name": "stdout",
     "output_type": "stream",
     "text": [
      "            feedback_date user_id  visitCount  visitDuration  visitPageCount  \\\n",
      "0 2019-03-04 12:57:36.793  257375         275        8779740             133   \n",
      "\n",
      "  browserType deviceType screenResolution       os sessionAttribute country  \\\n",
      "0      Chrome    Desktop        1920*1080  Windows        RETURNING      GB   \n",
      "\n",
      "      countryName state stateName cityName zipCode libraryVersion  score  \\\n",
      "0  United Kingdom   LDS     Leeds    Leeds    LS11          1.2.4     10   \n",
      "\n",
      "  feedback  \n",
      "0      NaN  \n",
      "datetime64[ns]\n",
      "object\n",
      "int64\n",
      "datetime64[ns]\n",
      "object\n"
     ]
    }
   ],
   "source": [
    "print(survey_df.head(1))\n",
    "print(survey_df['feedback_date'].dtypes)\n",
    "print(survey_df['user_id'].dtypes)\n",
    "print(survey_df['visitCount'].dtypes)\n",
    "survey_df['feedback_date']= pd.to_datetime(survey_df['feedback_date'])\n",
    "print(survey_df['feedback_date'].dtypes)\n",
    "survey_df['country']= survey_df['country'].astype('str') \n",
    "print(survey_df['country'].dtypes)\n"
   ]
  },
  {
   "cell_type": "code",
   "execution_count": 53,
   "metadata": {},
   "outputs": [
    {
     "data": {
      "text/plain": [
       "Timestamp('2019-03-04 12:57:36.793000')"
      ]
     },
     "execution_count": 53,
     "metadata": {},
     "output_type": "execute_result"
    }
   ],
   "source": [
    "np.max(survey_df['feedback_date'])"
   ]
  },
  {
   "cell_type": "code",
   "execution_count": 54,
   "metadata": {},
   "outputs": [
    {
     "data": {
      "text/plain": [
       "Timestamp('2018-06-08 11:22:23.555000')"
      ]
     },
     "execution_count": 54,
     "metadata": {},
     "output_type": "execute_result"
    }
   ],
   "source": [
    "np.min(survey_df['feedback_date'])"
   ]
  },
  {
   "cell_type": "code",
   "execution_count": 55,
   "metadata": {},
   "outputs": [
    {
     "data": {
      "text/plain": [
       "feedback_date       datetime64[ns]\n",
       "user_id                     object\n",
       "visitCount                   int64\n",
       "visitDuration                int64\n",
       "visitPageCount               int64\n",
       "browserType                 object\n",
       "deviceType                  object\n",
       "screenResolution            object\n",
       "os                          object\n",
       "sessionAttribute            object\n",
       "country                     object\n",
       "countryName                 object\n",
       "state                       object\n",
       "stateName                   object\n",
       "cityName                    object\n",
       "zipCode                     object\n",
       "libraryVersion              object\n",
       "score                        int64\n",
       "feedback                    object\n",
       "dtype: object"
      ]
     },
     "execution_count": 55,
     "metadata": {},
     "output_type": "execute_result"
    }
   ],
   "source": [
    "#np.histogram(survey_df['country'])\n",
    "survey_df.dtypes"
   ]
  },
  {
   "cell_type": "code",
   "execution_count": 65,
   "metadata": {},
   "outputs": [
    {
     "data": {
      "text/plain": [
       "(array([ 248,   58,   62,   70,   76,  222,  213,  499,  862, 2690]),\n",
       " array([ 0.,  1.,  2.,  3.,  4.,  5.,  6.,  7.,  8.,  9., 10.]))"
      ]
     },
     "execution_count": 65,
     "metadata": {},
     "output_type": "execute_result"
    }
   ],
   "source": [
    "np.histogram(survey_df['score'])"
   ]
  },
  {
   "cell_type": "code",
   "execution_count": 66,
   "metadata": {},
   "outputs": [
    {
     "data": {
      "text/plain": [
       "10    1926\n",
       "8      862\n",
       "9      764\n",
       "7      499\n",
       "0      248\n",
       "5      222\n",
       "6      213\n",
       "4       76\n",
       "3       70\n",
       "2       62\n",
       "1       58\n",
       "Name: score, dtype: int64"
      ]
     },
     "execution_count": 66,
     "metadata": {},
     "output_type": "execute_result"
    }
   ],
   "source": [
    "#detractor_count = survey_df['score'].count()\n",
    "survey_df['score'].value_counts()"
   ]
  },
  {
   "cell_type": "code",
   "execution_count": 86,
   "metadata": {},
   "outputs": [],
   "source": [
    "detractor_counts = survey_df['score'].between(0,6,inclusive=True).value_counts()"
   ]
  },
  {
   "cell_type": "code",
   "execution_count": 92,
   "metadata": {},
   "outputs": [
    {
     "name": "stdout",
     "output_type": "stream",
     "text": [
      "{False: 4051, True: 949}\n"
     ]
    }
   ],
   "source": [
    "print(detractor_counts)"
   ]
  },
  {
   "cell_type": "code",
   "execution_count": null,
   "metadata": {},
   "outputs": [],
   "source": []
  }
 ],
 "metadata": {
  "kernelspec": {
   "display_name": "Python 3",
   "language": "python",
   "name": "python3"
  },
  "language_info": {
   "codemirror_mode": {
    "name": "ipython",
    "version": 3
   },
   "file_extension": ".py",
   "mimetype": "text/x-python",
   "name": "python",
   "nbconvert_exporter": "python",
   "pygments_lexer": "ipython3",
   "version": "3.7.4"
  }
 },
 "nbformat": 4,
 "nbformat_minor": 2
}
